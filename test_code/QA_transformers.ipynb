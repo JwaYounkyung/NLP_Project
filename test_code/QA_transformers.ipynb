{
 "cells": [
  {
   "cell_type": "code",
   "execution_count": 1,
   "metadata": {},
   "outputs": [],
   "source": [
    "from transformers import AutoModelForQuestionAnswering, AutoTokenizer, pipeline\n",
    "import pandas as pd "
   ]
  },
  {
   "cell_type": "markdown",
   "metadata": {},
   "source": [
    "### RoBert base"
   ]
  },
  {
   "cell_type": "code",
   "execution_count": 2,
   "metadata": {},
   "outputs": [
    {
     "ename": "",
     "evalue": "",
     "output_type": "error",
     "traceback": [
      "\u001b[1;31mCanceled future for execute_request message before replies were done"
     ]
    },
    {
     "ename": "",
     "evalue": "",
     "output_type": "error",
     "traceback": [
      "\u001b[1;31m현재 셀 또는 이전 셀에서 코드를 실행하는 동안 Kernel이 충돌했습니다. 셀의 코드를 검토하여 오류의 가능한 원인을 식별하세요. 자세한 내용을 보려면 <a href='https://aka.ms/vscodeJupyterKernelCrash'> 여기 </a> 를 클릭하세요. 자세한 내용은 Jupyter <a href='command:jupyter.viewOutput'>로그</a>를 참조하세요."
     ]
    }
   ],
   "source": [
    "model_name = \"deepset/roberta-base-squad2\"\n",
    "\n",
    "# a) Get predictions\n",
    "nlp = pipeline('question-answering', model=model_name, tokenizer=model_name)\n",
    "QA_input = {\n",
    "    'question': 'Why is model conversion important?',\n",
    "    'context': 'The option to convert models between FARM and transformers gives freedom to the user and let people easily switch between frameworks.'\n",
    "}\n",
    "res = nlp(QA_input)\n",
    "\n",
    "# b) Load model & tokenizer\n",
    "model = AutoModelForQuestionAnswering.from_pretrained(model_name)\n",
    "tokenizer = AutoTokenizer.from_pretrained(model_name)"
   ]
  },
  {
   "cell_type": "code",
   "execution_count": 1,
   "metadata": {},
   "outputs": [
    {
     "ename": "NameError",
     "evalue": "name 'res' is not defined",
     "output_type": "error",
     "traceback": [
      "\u001b[0;31m---------------------------------------------------------------------------\u001b[0m",
      "\u001b[0;31mNameError\u001b[0m                                 Traceback (most recent call last)",
      "\u001b[0;32m/var/folders/vk/5j46npgx03l6g_gx_kjfh49c0000gn/T/ipykernel_23283/1158820258.py\u001b[0m in \u001b[0;36m<module>\u001b[0;34m\u001b[0m\n\u001b[0;32m----> 1\u001b[0;31m \u001b[0mres\u001b[0m\u001b[0;34m\u001b[0m\u001b[0;34m\u001b[0m\u001b[0m\n\u001b[0m",
      "\u001b[0;31mNameError\u001b[0m: name 'res' is not defined"
     ]
    }
   ],
   "source": [
    "res"
   ]
  },
  {
   "cell_type": "markdown",
   "metadata": {},
   "source": [
    "### ALBeart xxlarge"
   ]
  },
  {
   "cell_type": "code",
   "execution_count": 5,
   "metadata": {},
   "outputs": [
    {
     "name": "stderr",
     "output_type": "stream",
     "text": [
      "Downloading: 100%|██████████| 715/715 [00:00<00:00, 287kB/s]\n",
      "Downloading: 100%|██████████| 849M/849M [00:49<00:00, 18.1MB/s] \n",
      "Downloading: 100%|██████████| 48.0/48.0 [00:00<00:00, 11.0kB/s]\n",
      "Downloading: 100%|██████████| 742k/742k [00:00<00:00, 2.91MB/s]\n",
      "Downloading: 100%|██████████| 156/156 [00:00<00:00, 64.3kB/s]\n"
     ]
    }
   ],
   "source": [
    "model_name = \"ahotrod/albert_xxlargev1_squad2_512\"\n",
    "\n",
    "# a) Get predictions\n",
    "nlp = pipeline('question-answering', model=model_name, tokenizer=model_name)\n",
    "QA_input = {\n",
    "    'question': 'Who said that Eevee is what Pokémon is all about?',\n",
    "    'context': 'Gita Jackson of Kotaku claimed that Eevee is what Pokémon is all about, stating that Eevee is adorable, but that’s not the only reason why I love them. Somewhere between a cat and a dog, Eevee seems more domesticated than longtime series mascot Pikachu, but still as mischievous as any other wild animal.In 2015, Eevee was the most traded Pokémon in the games Wonder Trade feature. A special Pokémon Omega Ruby and Alpha Sapphire Online Competition known as the Eevee Friendly Match limits participants Pokémon to Eevee and its evolutions only'\n",
    "}\n",
    "res = nlp(QA_input)\n",
    "\n",
    "# b) Load model & tokenizer\n",
    "model = AutoModelForQuestionAnswering.from_pretrained(model_name)\n",
    "tokenizer = AutoTokenizer.from_pretrained(model_name)"
   ]
  },
  {
   "cell_type": "code",
   "execution_count": 6,
   "metadata": {},
   "outputs": [
    {
     "data": {
      "text/plain": [
       "{'score': 0.3663509488105774,\n",
       " 'start': 58,\n",
       " 'end': 84,\n",
       " 'answer': ' gives freedom to the user'}"
      ]
     },
     "execution_count": 6,
     "metadata": {},
     "output_type": "execute_result"
    }
   ],
   "source": [
    "res"
   ]
  },
  {
   "cell_type": "code",
   "execution_count": 9,
   "metadata": {},
   "outputs": [],
   "source": [
    "QA_input = {\n",
    "    'question': 'Who said that Eevee is what Pokémon is all about?',\n",
    "    'context': 'Gita Jackson of Kotaku claimed that Eevee is what Pokémon is all about, stating that Eevee is adorable, but that’s not the only reason why I love them. Somewhere between a cat and a dog, Eevee seems more domesticated than longtime series mascot Pikachu, but still as mischievous as any other wild animal.In 2015, Eevee was the most traded Pokémon in the games Wonder Trade feature. A special Pokémon Omega Ruby and Alpha Sapphire Online Competition known as the Eevee Friendly Match limits participants Pokémon to Eevee and its evolutions only'\n",
    "}\n",
    "res = nlp(QA_input)"
   ]
  },
  {
   "cell_type": "code",
   "execution_count": 10,
   "metadata": {},
   "outputs": [
    {
     "data": {
      "text/plain": [
       "{'score': 0.943001389503479, 'start': 0, 'end': 12, 'answer': 'Gita Jackson'}"
      ]
     },
     "execution_count": 10,
     "metadata": {},
     "output_type": "execute_result"
    }
   ],
   "source": [
    "res"
   ]
  },
  {
   "cell_type": "code",
   "execution_count": 11,
   "metadata": {},
   "outputs": [],
   "source": [
    "QA_input = {\n",
    "    'question': 'Is Eevee a Pokémon?',\n",
    "    'context': 'Gita Jackson of Kotaku claimed that Eevee is what Pokémon is all about, stating that Eevee is adorable, but that’s not the only reason why I love them. Somewhere between a cat and a dog, Eevee seems more domesticated than longtime series mascot Pikachu, but still as mischievous as any other wild animal.In 2015, Eevee was the most traded Pokémon in the games Wonder Trade feature. A special Pokémon Omega Ruby and Alpha Sapphire Online Competition known as the Eevee Friendly Match limits participants Pokémon to Eevee and its evolutions only'\n",
    "}\n",
    "res = nlp(QA_input)"
   ]
  },
  {
   "cell_type": "code",
   "execution_count": 12,
   "metadata": {},
   "outputs": [
    {
     "data": {
      "text/plain": [
       "{'score': 0.04934145510196686,\n",
       " 'start': 22,\n",
       " 'end': 71,\n",
       " 'answer': ' claimed that Eevee is what Pokémon is all about,'}"
      ]
     },
     "execution_count": 12,
     "metadata": {},
     "output_type": "execute_result"
    }
   ],
   "source": [
    "res"
   ]
  }
 ],
 "metadata": {
  "kernelspec": {
   "display_name": "Python 3.7.11 ('NLP')",
   "language": "python",
   "name": "python3"
  },
  "language_info": {
   "codemirror_mode": {
    "name": "ipython",
    "version": 3
   },
   "file_extension": ".py",
   "mimetype": "text/x-python",
   "name": "python",
   "nbconvert_exporter": "python",
   "pygments_lexer": "ipython3",
   "version": "3.7.11"
  },
  "orig_nbformat": 4,
  "vscode": {
   "interpreter": {
    "hash": "60951fe2ccac1c258907b209f658f6ef884c93d9ccb3f36667a6035df696e51a"
   }
  }
 },
 "nbformat": 4,
 "nbformat_minor": 2
}
